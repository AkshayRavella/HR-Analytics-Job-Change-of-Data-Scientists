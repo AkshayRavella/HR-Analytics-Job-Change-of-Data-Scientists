{
  "metadata": {
    "kernelspec": {
      "language": "python",
      "display_name": "Python 3",
      "name": "python3"
    },
    "language_info": {
      "pygments_lexer": "ipython3",
      "nbconvert_exporter": "python",
      "version": "3.6.4",
      "file_extension": ".py",
      "codemirror_mode": {
        "name": "ipython",
        "version": 3
      },
      "name": "python",
      "mimetype": "text/x-python"
    },
    "colab": {
      "provenance": []
    }
  },
  "nbformat_minor": 0,
  "nbformat": 4,
  "cells": [
    {
      "cell_type": "code",
      "source": [
        "import numpy as np\n",
        "import pandas as pd\n",
        "import seaborn as sns\n",
        "import matplotlib.pyplot as plt\n",
        "import warnings\n",
        "warnings.filterwarnings(\"ignore\")\n",
        "\n",
        "from sklearn.model_selection import train_test_split\n",
        "from sklearn.preprocessing import StandardScaler\n",
        "from sklearn.metrics import accuracy_score\n",
        "\n",
        "from sklearn.svm import SVC\n",
        "from sklearn.neighbors import KNeighborsClassifier\n",
        "from sklearn.linear_model import LogisticRegression\n",
        "from xgboost import XGBClassifier\n",
        "from sklearn.ensemble import RandomForestClassifier\n",
        "from sklearn.naive_bayes import GaussianNB\n",
        "from sklearn.naive_bayes import BernoulliNB"
      ],
      "metadata": {
        "_uuid": "8f2839f25d086af736a60e9eeb907d3b93b6e0e5",
        "_cell_guid": "b1076dfc-b9ad-4769-8c92-a6c4dae69d19",
        "execution": {
          "iopub.status.busy": "2021-11-05T19:57:38.88048Z",
          "iopub.execute_input": "2021-11-05T19:57:38.880842Z",
          "iopub.status.idle": "2021-11-05T19:57:38.887774Z",
          "shell.execute_reply.started": "2021-11-05T19:57:38.880807Z",
          "shell.execute_reply": "2021-11-05T19:57:38.887117Z"
        },
        "trusted": true,
        "id": "9Kd2nCyO6aJx"
      },
      "execution_count": 1,
      "outputs": []
    },
    {
      "cell_type": "code",
      "source": [
        "df = pd.read_csv(\"https://www.dropbox.com/s/8pnfe5bnbe9jglt/JobChangeofDataScientists.csv?dl=1\")"
      ],
      "metadata": {
        "execution": {
          "iopub.status.busy": "2021-11-05T20:05:42.563587Z",
          "iopub.execute_input": "2021-11-05T20:05:42.564245Z",
          "iopub.status.idle": "2021-11-05T20:05:42.622555Z",
          "shell.execute_reply.started": "2021-11-05T20:05:42.564197Z",
          "shell.execute_reply": "2021-11-05T20:05:42.621538Z"
        },
        "trusted": true,
        "id": "aUlfRZmx6aKT"
      },
      "execution_count": 2,
      "outputs": []
    },
    {
      "cell_type": "markdown",
      "source": [
        "# Exploratory Data Analysis"
      ],
      "metadata": {
        "id": "2mOIsxuw6aKX"
      }
    },
    {
      "cell_type": "code",
      "source": [
        "df.head()"
      ],
      "metadata": {
        "execution": {
          "iopub.status.busy": "2021-11-05T20:05:42.624001Z",
          "iopub.execute_input": "2021-11-05T20:05:42.624235Z",
          "iopub.status.idle": "2021-11-05T20:05:42.644098Z",
          "shell.execute_reply.started": "2021-11-05T20:05:42.624205Z",
          "shell.execute_reply": "2021-11-05T20:05:42.643307Z"
        },
        "trusted": true,
        "colab": {
          "base_uri": "https://localhost:8080/",
          "height": 270
        },
        "id": "KJlke4Ao6aKj",
        "outputId": "d41ad5d9-3dc4-4032-9c1c-3efc993ab755"
      },
      "execution_count": 4,
      "outputs": [
        {
          "output_type": "execute_result",
          "data": {
            "text/plain": [
              "   enrollee_id      city  city_development_index gender  \\\n",
              "0         8949  city_103                   0.920   Male   \n",
              "1        29725   city_40                   0.776   Male   \n",
              "2        11561   city_21                   0.624    NaN   \n",
              "3        33241  city_115                   0.789    NaN   \n",
              "4          666  city_162                   0.767   Male   \n",
              "\n",
              "       relevent_experience enrolled_university education_level  \\\n",
              "0  Has relevent experience       no_enrollment        Graduate   \n",
              "1   No relevent experience       no_enrollment        Graduate   \n",
              "2   No relevent experience    Full time course        Graduate   \n",
              "3   No relevent experience                 NaN        Graduate   \n",
              "4  Has relevent experience       no_enrollment         Masters   \n",
              "\n",
              "  major_discipline experience company_size    company_type last_new_job  \\\n",
              "0             STEM        >20          NaN             NaN            1   \n",
              "1             STEM         15        50-99         Pvt Ltd           >4   \n",
              "2             STEM          5          NaN             NaN        never   \n",
              "3  Business Degree         <1          NaN         Pvt Ltd        never   \n",
              "4             STEM        >20        50-99  Funded Startup            4   \n",
              "\n",
              "   training_hours  target  \n",
              "0              36       1  \n",
              "1              47       0  \n",
              "2              83       0  \n",
              "3              52       1  \n",
              "4               8       0  "
            ],
            "text/html": [
              "\n",
              "  <div id=\"df-077b8028-48e8-4f58-9bc0-578c47dbe21c\">\n",
              "    <div class=\"colab-df-container\">\n",
              "      <div>\n",
              "<style scoped>\n",
              "    .dataframe tbody tr th:only-of-type {\n",
              "        vertical-align: middle;\n",
              "    }\n",
              "\n",
              "    .dataframe tbody tr th {\n",
              "        vertical-align: top;\n",
              "    }\n",
              "\n",
              "    .dataframe thead th {\n",
              "        text-align: right;\n",
              "    }\n",
              "</style>\n",
              "<table border=\"1\" class=\"dataframe\">\n",
              "  <thead>\n",
              "    <tr style=\"text-align: right;\">\n",
              "      <th></th>\n",
              "      <th>enrollee_id</th>\n",
              "      <th>city</th>\n",
              "      <th>city_development_index</th>\n",
              "      <th>gender</th>\n",
              "      <th>relevent_experience</th>\n",
              "      <th>enrolled_university</th>\n",
              "      <th>education_level</th>\n",
              "      <th>major_discipline</th>\n",
              "      <th>experience</th>\n",
              "      <th>company_size</th>\n",
              "      <th>company_type</th>\n",
              "      <th>last_new_job</th>\n",
              "      <th>training_hours</th>\n",
              "      <th>target</th>\n",
              "    </tr>\n",
              "  </thead>\n",
              "  <tbody>\n",
              "    <tr>\n",
              "      <th>0</th>\n",
              "      <td>8949</td>\n",
              "      <td>city_103</td>\n",
              "      <td>0.920</td>\n",
              "      <td>Male</td>\n",
              "      <td>Has relevent experience</td>\n",
              "      <td>no_enrollment</td>\n",
              "      <td>Graduate</td>\n",
              "      <td>STEM</td>\n",
              "      <td>&gt;20</td>\n",
              "      <td>NaN</td>\n",
              "      <td>NaN</td>\n",
              "      <td>1</td>\n",
              "      <td>36</td>\n",
              "      <td>1</td>\n",
              "    </tr>\n",
              "    <tr>\n",
              "      <th>1</th>\n",
              "      <td>29725</td>\n",
              "      <td>city_40</td>\n",
              "      <td>0.776</td>\n",
              "      <td>Male</td>\n",
              "      <td>No relevent experience</td>\n",
              "      <td>no_enrollment</td>\n",
              "      <td>Graduate</td>\n",
              "      <td>STEM</td>\n",
              "      <td>15</td>\n",
              "      <td>50-99</td>\n",
              "      <td>Pvt Ltd</td>\n",
              "      <td>&gt;4</td>\n",
              "      <td>47</td>\n",
              "      <td>0</td>\n",
              "    </tr>\n",
              "    <tr>\n",
              "      <th>2</th>\n",
              "      <td>11561</td>\n",
              "      <td>city_21</td>\n",
              "      <td>0.624</td>\n",
              "      <td>NaN</td>\n",
              "      <td>No relevent experience</td>\n",
              "      <td>Full time course</td>\n",
              "      <td>Graduate</td>\n",
              "      <td>STEM</td>\n",
              "      <td>5</td>\n",
              "      <td>NaN</td>\n",
              "      <td>NaN</td>\n",
              "      <td>never</td>\n",
              "      <td>83</td>\n",
              "      <td>0</td>\n",
              "    </tr>\n",
              "    <tr>\n",
              "      <th>3</th>\n",
              "      <td>33241</td>\n",
              "      <td>city_115</td>\n",
              "      <td>0.789</td>\n",
              "      <td>NaN</td>\n",
              "      <td>No relevent experience</td>\n",
              "      <td>NaN</td>\n",
              "      <td>Graduate</td>\n",
              "      <td>Business Degree</td>\n",
              "      <td>&lt;1</td>\n",
              "      <td>NaN</td>\n",
              "      <td>Pvt Ltd</td>\n",
              "      <td>never</td>\n",
              "      <td>52</td>\n",
              "      <td>1</td>\n",
              "    </tr>\n",
              "    <tr>\n",
              "      <th>4</th>\n",
              "      <td>666</td>\n",
              "      <td>city_162</td>\n",
              "      <td>0.767</td>\n",
              "      <td>Male</td>\n",
              "      <td>Has relevent experience</td>\n",
              "      <td>no_enrollment</td>\n",
              "      <td>Masters</td>\n",
              "      <td>STEM</td>\n",
              "      <td>&gt;20</td>\n",
              "      <td>50-99</td>\n",
              "      <td>Funded Startup</td>\n",
              "      <td>4</td>\n",
              "      <td>8</td>\n",
              "      <td>0</td>\n",
              "    </tr>\n",
              "  </tbody>\n",
              "</table>\n",
              "</div>\n",
              "      <button class=\"colab-df-convert\" onclick=\"convertToInteractive('df-077b8028-48e8-4f58-9bc0-578c47dbe21c')\"\n",
              "              title=\"Convert this dataframe to an interactive table.\"\n",
              "              style=\"display:none;\">\n",
              "        \n",
              "  <svg xmlns=\"http://www.w3.org/2000/svg\" height=\"24px\"viewBox=\"0 0 24 24\"\n",
              "       width=\"24px\">\n",
              "    <path d=\"M0 0h24v24H0V0z\" fill=\"none\"/>\n",
              "    <path d=\"M18.56 5.44l.94 2.06.94-2.06 2.06-.94-2.06-.94-.94-2.06-.94 2.06-2.06.94zm-11 1L8.5 8.5l.94-2.06 2.06-.94-2.06-.94L8.5 2.5l-.94 2.06-2.06.94zm10 10l.94 2.06.94-2.06 2.06-.94-2.06-.94-.94-2.06-.94 2.06-2.06.94z\"/><path d=\"M17.41 7.96l-1.37-1.37c-.4-.4-.92-.59-1.43-.59-.52 0-1.04.2-1.43.59L10.3 9.45l-7.72 7.72c-.78.78-.78 2.05 0 2.83L4 21.41c.39.39.9.59 1.41.59.51 0 1.02-.2 1.41-.59l7.78-7.78 2.81-2.81c.8-.78.8-2.07 0-2.86zM5.41 20L4 18.59l7.72-7.72 1.47 1.35L5.41 20z\"/>\n",
              "  </svg>\n",
              "      </button>\n",
              "      \n",
              "  <style>\n",
              "    .colab-df-container {\n",
              "      display:flex;\n",
              "      flex-wrap:wrap;\n",
              "      gap: 12px;\n",
              "    }\n",
              "\n",
              "    .colab-df-convert {\n",
              "      background-color: #E8F0FE;\n",
              "      border: none;\n",
              "      border-radius: 50%;\n",
              "      cursor: pointer;\n",
              "      display: none;\n",
              "      fill: #1967D2;\n",
              "      height: 32px;\n",
              "      padding: 0 0 0 0;\n",
              "      width: 32px;\n",
              "    }\n",
              "\n",
              "    .colab-df-convert:hover {\n",
              "      background-color: #E2EBFA;\n",
              "      box-shadow: 0px 1px 2px rgba(60, 64, 67, 0.3), 0px 1px 3px 1px rgba(60, 64, 67, 0.15);\n",
              "      fill: #174EA6;\n",
              "    }\n",
              "\n",
              "    [theme=dark] .colab-df-convert {\n",
              "      background-color: #3B4455;\n",
              "      fill: #D2E3FC;\n",
              "    }\n",
              "\n",
              "    [theme=dark] .colab-df-convert:hover {\n",
              "      background-color: #434B5C;\n",
              "      box-shadow: 0px 1px 3px 1px rgba(0, 0, 0, 0.15);\n",
              "      filter: drop-shadow(0px 1px 2px rgba(0, 0, 0, 0.3));\n",
              "      fill: #FFFFFF;\n",
              "    }\n",
              "  </style>\n",
              "\n",
              "      <script>\n",
              "        const buttonEl =\n",
              "          document.querySelector('#df-077b8028-48e8-4f58-9bc0-578c47dbe21c button.colab-df-convert');\n",
              "        buttonEl.style.display =\n",
              "          google.colab.kernel.accessAllowed ? 'block' : 'none';\n",
              "\n",
              "        async function convertToInteractive(key) {\n",
              "          const element = document.querySelector('#df-077b8028-48e8-4f58-9bc0-578c47dbe21c');\n",
              "          const dataTable =\n",
              "            await google.colab.kernel.invokeFunction('convertToInteractive',\n",
              "                                                     [key], {});\n",
              "          if (!dataTable) return;\n",
              "\n",
              "          const docLinkHtml = 'Like what you see? Visit the ' +\n",
              "            '<a target=\"_blank\" href=https://colab.research.google.com/notebooks/data_table.ipynb>data table notebook</a>'\n",
              "            + ' to learn more about interactive tables.';\n",
              "          element.innerHTML = '';\n",
              "          dataTable['output_type'] = 'display_data';\n",
              "          await google.colab.output.renderOutput(dataTable, element);\n",
              "          const docLink = document.createElement('div');\n",
              "          docLink.innerHTML = docLinkHtml;\n",
              "          element.appendChild(docLink);\n",
              "        }\n",
              "      </script>\n",
              "    </div>\n",
              "  </div>\n",
              "  "
            ]
          },
          "metadata": {},
          "execution_count": 4
        }
      ]
    },
    {
      "cell_type": "code",
      "source": [
        "df.drop(\"enrollee_id\", axis=1, inplace=True)"
      ],
      "metadata": {
        "execution": {
          "iopub.status.busy": "2021-11-05T20:05:42.645582Z",
          "iopub.execute_input": "2021-11-05T20:05:42.645871Z",
          "iopub.status.idle": "2021-11-05T20:05:42.660253Z",
          "shell.execute_reply.started": "2021-11-05T20:05:42.645839Z",
          "shell.execute_reply": "2021-11-05T20:05:42.659356Z"
        },
        "trusted": true,
        "id": "AbNbAqPH6aKm"
      },
      "execution_count": 5,
      "outputs": []
    },
    {
      "cell_type": "code",
      "source": [
        "df.shape"
      ],
      "metadata": {
        "execution": {
          "iopub.status.busy": "2021-11-05T20:05:42.661811Z",
          "iopub.execute_input": "2021-11-05T20:05:42.662309Z",
          "iopub.status.idle": "2021-11-05T20:05:42.672768Z",
          "shell.execute_reply.started": "2021-11-05T20:05:42.662267Z",
          "shell.execute_reply": "2021-11-05T20:05:42.671792Z"
        },
        "trusted": true,
        "colab": {
          "base_uri": "https://localhost:8080/"
        },
        "id": "igvN9yi16aKp",
        "outputId": "508e4921-107f-404d-9598-52652872f2d1"
      },
      "execution_count": 6,
      "outputs": [
        {
          "output_type": "execute_result",
          "data": {
            "text/plain": [
              "(19158, 13)"
            ]
          },
          "metadata": {},
          "execution_count": 6
        }
      ]
    },
    {
      "cell_type": "code",
      "source": [
        "df.info()"
      ],
      "metadata": {
        "execution": {
          "iopub.status.busy": "2021-11-05T20:05:42.674258Z",
          "iopub.execute_input": "2021-11-05T20:05:42.674675Z",
          "iopub.status.idle": "2021-11-05T20:05:42.717482Z",
          "shell.execute_reply.started": "2021-11-05T20:05:42.674645Z",
          "shell.execute_reply": "2021-11-05T20:05:42.716802Z"
        },
        "trusted": true,
        "colab": {
          "base_uri": "https://localhost:8080/"
        },
        "id": "fQj_8InK6aKs",
        "outputId": "d7e86879-9590-4040-a4cf-f98bc67aec80"
      },
      "execution_count": 7,
      "outputs": [
        {
          "output_type": "stream",
          "name": "stdout",
          "text": [
            "<class 'pandas.core.frame.DataFrame'>\n",
            "RangeIndex: 19158 entries, 0 to 19157\n",
            "Data columns (total 13 columns):\n",
            " #   Column                  Non-Null Count  Dtype  \n",
            "---  ------                  --------------  -----  \n",
            " 0   city                    19158 non-null  object \n",
            " 1   city_development_index  19158 non-null  float64\n",
            " 2   gender                  14650 non-null  object \n",
            " 3   relevent_experience     19158 non-null  object \n",
            " 4   enrolled_university     18772 non-null  object \n",
            " 5   education_level         18698 non-null  object \n",
            " 6   major_discipline        16345 non-null  object \n",
            " 7   experience              19093 non-null  object \n",
            " 8   company_size            13220 non-null  object \n",
            " 9   company_type            13018 non-null  object \n",
            " 10  last_new_job            18735 non-null  object \n",
            " 11  training_hours          19158 non-null  int64  \n",
            " 12  target                  19158 non-null  int64  \n",
            "dtypes: float64(1), int64(2), object(10)\n",
            "memory usage: 1.9+ MB\n"
          ]
        }
      ]
    },
    {
      "cell_type": "code",
      "source": [
        "df.describe().T"
      ],
      "metadata": {
        "execution": {
          "iopub.status.busy": "2021-11-05T20:05:42.718777Z",
          "iopub.execute_input": "2021-11-05T20:05:42.718994Z",
          "iopub.status.idle": "2021-11-05T20:05:42.747502Z",
          "shell.execute_reply.started": "2021-11-05T20:05:42.718966Z",
          "shell.execute_reply": "2021-11-05T20:05:42.746515Z"
        },
        "trusted": true,
        "colab": {
          "base_uri": "https://localhost:8080/",
          "height": 143
        },
        "id": "cOvLR6Bo6aKw",
        "outputId": "c9023197-e7be-4bb5-8412-f4c61972100e"
      },
      "execution_count": 8,
      "outputs": [
        {
          "output_type": "execute_result",
          "data": {
            "text/plain": [
              "                          count       mean        std    min    25%     50%  \\\n",
              "city_development_index  19158.0   0.828848   0.123362  0.448   0.74   0.903   \n",
              "training_hours          19158.0  65.366896  60.058462  1.000  23.00  47.000   \n",
              "target                  19158.0   0.249348   0.432647  0.000   0.00   0.000   \n",
              "\n",
              "                          75%      max  \n",
              "city_development_index   0.92    0.949  \n",
              "training_hours          88.00  336.000  \n",
              "target                   0.00    1.000  "
            ],
            "text/html": [
              "\n",
              "  <div id=\"df-7a455609-72fc-49cc-b4f0-5f01dec66e6a\">\n",
              "    <div class=\"colab-df-container\">\n",
              "      <div>\n",
              "<style scoped>\n",
              "    .dataframe tbody tr th:only-of-type {\n",
              "        vertical-align: middle;\n",
              "    }\n",
              "\n",
              "    .dataframe tbody tr th {\n",
              "        vertical-align: top;\n",
              "    }\n",
              "\n",
              "    .dataframe thead th {\n",
              "        text-align: right;\n",
              "    }\n",
              "</style>\n",
              "<table border=\"1\" class=\"dataframe\">\n",
              "  <thead>\n",
              "    <tr style=\"text-align: right;\">\n",
              "      <th></th>\n",
              "      <th>count</th>\n",
              "      <th>mean</th>\n",
              "      <th>std</th>\n",
              "      <th>min</th>\n",
              "      <th>25%</th>\n",
              "      <th>50%</th>\n",
              "      <th>75%</th>\n",
              "      <th>max</th>\n",
              "    </tr>\n",
              "  </thead>\n",
              "  <tbody>\n",
              "    <tr>\n",
              "      <th>city_development_index</th>\n",
              "      <td>19158.0</td>\n",
              "      <td>0.828848</td>\n",
              "      <td>0.123362</td>\n",
              "      <td>0.448</td>\n",
              "      <td>0.74</td>\n",
              "      <td>0.903</td>\n",
              "      <td>0.92</td>\n",
              "      <td>0.949</td>\n",
              "    </tr>\n",
              "    <tr>\n",
              "      <th>training_hours</th>\n",
              "      <td>19158.0</td>\n",
              "      <td>65.366896</td>\n",
              "      <td>60.058462</td>\n",
              "      <td>1.000</td>\n",
              "      <td>23.00</td>\n",
              "      <td>47.000</td>\n",
              "      <td>88.00</td>\n",
              "      <td>336.000</td>\n",
              "    </tr>\n",
              "    <tr>\n",
              "      <th>target</th>\n",
              "      <td>19158.0</td>\n",
              "      <td>0.249348</td>\n",
              "      <td>0.432647</td>\n",
              "      <td>0.000</td>\n",
              "      <td>0.00</td>\n",
              "      <td>0.000</td>\n",
              "      <td>0.00</td>\n",
              "      <td>1.000</td>\n",
              "    </tr>\n",
              "  </tbody>\n",
              "</table>\n",
              "</div>\n",
              "      <button class=\"colab-df-convert\" onclick=\"convertToInteractive('df-7a455609-72fc-49cc-b4f0-5f01dec66e6a')\"\n",
              "              title=\"Convert this dataframe to an interactive table.\"\n",
              "              style=\"display:none;\">\n",
              "        \n",
              "  <svg xmlns=\"http://www.w3.org/2000/svg\" height=\"24px\"viewBox=\"0 0 24 24\"\n",
              "       width=\"24px\">\n",
              "    <path d=\"M0 0h24v24H0V0z\" fill=\"none\"/>\n",
              "    <path d=\"M18.56 5.44l.94 2.06.94-2.06 2.06-.94-2.06-.94-.94-2.06-.94 2.06-2.06.94zm-11 1L8.5 8.5l.94-2.06 2.06-.94-2.06-.94L8.5 2.5l-.94 2.06-2.06.94zm10 10l.94 2.06.94-2.06 2.06-.94-2.06-.94-.94-2.06-.94 2.06-2.06.94z\"/><path d=\"M17.41 7.96l-1.37-1.37c-.4-.4-.92-.59-1.43-.59-.52 0-1.04.2-1.43.59L10.3 9.45l-7.72 7.72c-.78.78-.78 2.05 0 2.83L4 21.41c.39.39.9.59 1.41.59.51 0 1.02-.2 1.41-.59l7.78-7.78 2.81-2.81c.8-.78.8-2.07 0-2.86zM5.41 20L4 18.59l7.72-7.72 1.47 1.35L5.41 20z\"/>\n",
              "  </svg>\n",
              "      </button>\n",
              "      \n",
              "  <style>\n",
              "    .colab-df-container {\n",
              "      display:flex;\n",
              "      flex-wrap:wrap;\n",
              "      gap: 12px;\n",
              "    }\n",
              "\n",
              "    .colab-df-convert {\n",
              "      background-color: #E8F0FE;\n",
              "      border: none;\n",
              "      border-radius: 50%;\n",
              "      cursor: pointer;\n",
              "      display: none;\n",
              "      fill: #1967D2;\n",
              "      height: 32px;\n",
              "      padding: 0 0 0 0;\n",
              "      width: 32px;\n",
              "    }\n",
              "\n",
              "    .colab-df-convert:hover {\n",
              "      background-color: #E2EBFA;\n",
              "      box-shadow: 0px 1px 2px rgba(60, 64, 67, 0.3), 0px 1px 3px 1px rgba(60, 64, 67, 0.15);\n",
              "      fill: #174EA6;\n",
              "    }\n",
              "\n",
              "    [theme=dark] .colab-df-convert {\n",
              "      background-color: #3B4455;\n",
              "      fill: #D2E3FC;\n",
              "    }\n",
              "\n",
              "    [theme=dark] .colab-df-convert:hover {\n",
              "      background-color: #434B5C;\n",
              "      box-shadow: 0px 1px 3px 1px rgba(0, 0, 0, 0.15);\n",
              "      filter: drop-shadow(0px 1px 2px rgba(0, 0, 0, 0.3));\n",
              "      fill: #FFFFFF;\n",
              "    }\n",
              "  </style>\n",
              "\n",
              "      <script>\n",
              "        const buttonEl =\n",
              "          document.querySelector('#df-7a455609-72fc-49cc-b4f0-5f01dec66e6a button.colab-df-convert');\n",
              "        buttonEl.style.display =\n",
              "          google.colab.kernel.accessAllowed ? 'block' : 'none';\n",
              "\n",
              "        async function convertToInteractive(key) {\n",
              "          const element = document.querySelector('#df-7a455609-72fc-49cc-b4f0-5f01dec66e6a');\n",
              "          const dataTable =\n",
              "            await google.colab.kernel.invokeFunction('convertToInteractive',\n",
              "                                                     [key], {});\n",
              "          if (!dataTable) return;\n",
              "\n",
              "          const docLinkHtml = 'Like what you see? Visit the ' +\n",
              "            '<a target=\"_blank\" href=https://colab.research.google.com/notebooks/data_table.ipynb>data table notebook</a>'\n",
              "            + ' to learn more about interactive tables.';\n",
              "          element.innerHTML = '';\n",
              "          dataTable['output_type'] = 'display_data';\n",
              "          await google.colab.output.renderOutput(dataTable, element);\n",
              "          const docLink = document.createElement('div');\n",
              "          docLink.innerHTML = docLinkHtml;\n",
              "          element.appendChild(docLink);\n",
              "        }\n",
              "      </script>\n",
              "    </div>\n",
              "  </div>\n",
              "  "
            ]
          },
          "metadata": {},
          "execution_count": 8
        }
      ]
    },
    {
      "cell_type": "markdown",
      "source": [
        "# Cleaning the Data"
      ],
      "metadata": {
        "id": "5JhxOP-c6aKz"
      }
    },
    {
      "cell_type": "code",
      "source": [
        "df.isnull().sum()"
      ],
      "metadata": {
        "execution": {
          "iopub.status.busy": "2021-11-05T20:05:42.748902Z",
          "iopub.execute_input": "2021-11-05T20:05:42.749132Z",
          "iopub.status.idle": "2021-11-05T20:05:42.779319Z",
          "shell.execute_reply.started": "2021-11-05T20:05:42.749104Z",
          "shell.execute_reply": "2021-11-05T20:05:42.778274Z"
        },
        "trusted": true,
        "colab": {
          "base_uri": "https://localhost:8080/"
        },
        "id": "QLnM47fU6aK1",
        "outputId": "dd5b8f01-8465-4a4a-a795-b875f8901a47"
      },
      "execution_count": 9,
      "outputs": [
        {
          "output_type": "execute_result",
          "data": {
            "text/plain": [
              "city                         0\n",
              "city_development_index       0\n",
              "gender                    4508\n",
              "relevent_experience          0\n",
              "enrolled_university        386\n",
              "education_level            460\n",
              "major_discipline          2813\n",
              "experience                  65\n",
              "company_size              5938\n",
              "company_type              6140\n",
              "last_new_job               423\n",
              "training_hours               0\n",
              "target                       0\n",
              "dtype: int64"
            ]
          },
          "metadata": {},
          "execution_count": 9
        }
      ]
    },
    {
      "cell_type": "code",
      "source": [
        "num_cols = df.select_dtypes([\"float64\",\"int64\"])\n",
        "cat_cols = df.select_dtypes([\"object\"])\n",
        "\n",
        "for col in num_cols.columns:\n",
        "    df[col].fillna(df[col].median(), inplace=True)\n",
        "\n",
        "for col in cat_cols.columns:\n",
        "    df[col].fillna(df[col].mode().values[0], inplace=True)"
      ],
      "metadata": {
        "execution": {
          "iopub.status.busy": "2021-11-05T20:05:57.334439Z",
          "iopub.execute_input": "2021-11-05T20:05:57.334709Z",
          "iopub.status.idle": "2021-11-05T20:05:57.40186Z",
          "shell.execute_reply.started": "2021-11-05T20:05:57.334677Z",
          "shell.execute_reply": "2021-11-05T20:05:57.400796Z"
        },
        "trusted": true,
        "id": "mNw2PD846aK4"
      },
      "execution_count": 10,
      "outputs": []
    },
    {
      "cell_type": "code",
      "source": [
        "df.isnull().sum()"
      ],
      "metadata": {
        "execution": {
          "iopub.status.busy": "2021-11-05T20:05:59.328372Z",
          "iopub.execute_input": "2021-11-05T20:05:59.328917Z",
          "iopub.status.idle": "2021-11-05T20:05:59.358972Z",
          "shell.execute_reply.started": "2021-11-05T20:05:59.328881Z",
          "shell.execute_reply": "2021-11-05T20:05:59.357983Z"
        },
        "trusted": true,
        "colab": {
          "base_uri": "https://localhost:8080/"
        },
        "id": "gQNvDPUM6aK7",
        "outputId": "4cdf482b-5521-4c38-aa79-e0b27c2631c3"
      },
      "execution_count": 11,
      "outputs": [
        {
          "output_type": "execute_result",
          "data": {
            "text/plain": [
              "city                      0\n",
              "city_development_index    0\n",
              "gender                    0\n",
              "relevent_experience       0\n",
              "enrolled_university       0\n",
              "education_level           0\n",
              "major_discipline          0\n",
              "experience                0\n",
              "company_size              0\n",
              "company_type              0\n",
              "last_new_job              0\n",
              "training_hours            0\n",
              "target                    0\n",
              "dtype: int64"
            ]
          },
          "metadata": {},
          "execution_count": 11
        }
      ]
    },
    {
      "cell_type": "markdown",
      "source": [
        "# Handling Duplicates"
      ],
      "metadata": {
        "id": "Zr0EHQfd6aK_"
      }
    },
    {
      "cell_type": "code",
      "source": [
        "df.duplicated().sum()"
      ],
      "metadata": {
        "execution": {
          "iopub.status.busy": "2021-11-05T20:06:01.740823Z",
          "iopub.execute_input": "2021-11-05T20:06:01.741371Z",
          "iopub.status.idle": "2021-11-05T20:06:01.768485Z",
          "shell.execute_reply.started": "2021-11-05T20:06:01.741337Z",
          "shell.execute_reply": "2021-11-05T20:06:01.767822Z"
        },
        "trusted": true,
        "colab": {
          "base_uri": "https://localhost:8080/"
        },
        "id": "fHjZ9Bis6aLC",
        "outputId": "de89bb1d-d135-4fd3-f725-be6064d9dfc0"
      },
      "execution_count": 12,
      "outputs": [
        {
          "output_type": "execute_result",
          "data": {
            "text/plain": [
              "97"
            ]
          },
          "metadata": {},
          "execution_count": 12
        }
      ]
    },
    {
      "cell_type": "code",
      "source": [
        "df.drop_duplicates(inplace=True)"
      ],
      "metadata": {
        "execution": {
          "iopub.status.busy": "2021-11-05T20:06:04.139304Z",
          "iopub.execute_input": "2021-11-05T20:06:04.139874Z",
          "iopub.status.idle": "2021-11-05T20:06:04.169978Z",
          "shell.execute_reply.started": "2021-11-05T20:06:04.139811Z",
          "shell.execute_reply": "2021-11-05T20:06:04.169004Z"
        },
        "trusted": true,
        "id": "QIR1MSpX6aLD"
      },
      "execution_count": 13,
      "outputs": []
    },
    {
      "cell_type": "code",
      "source": [
        "X = df.drop(\"target\", axis=1)\n",
        "y = df[\"target\"]\n",
        "\n",
        "y = pd.DataFrame(y, columns=[\"target\"])"
      ],
      "metadata": {
        "execution": {
          "iopub.status.busy": "2021-11-05T20:06:06.465953Z",
          "iopub.execute_input": "2021-11-05T20:06:06.46623Z",
          "iopub.status.idle": "2021-11-05T20:06:06.474931Z",
          "shell.execute_reply.started": "2021-11-05T20:06:06.466201Z",
          "shell.execute_reply": "2021-11-05T20:06:06.47397Z"
        },
        "trusted": true,
        "id": "wBB-eUWy6aLF"
      },
      "execution_count": 14,
      "outputs": []
    },
    {
      "cell_type": "markdown",
      "source": [
        "# Data Standardization"
      ],
      "metadata": {
        "id": "fdML6ziu6aLI"
      }
    },
    {
      "cell_type": "code",
      "source": [
        "X_num_cols  = X.select_dtypes([\"float64\",\"int64\"])\n",
        "X_cat_cols  = X.select_dtypes([\"object\"])\n",
        "\n",
        "ss = StandardScaler()\n",
        "X[X_num_cols.columns] = ss.fit_transform(X[X_num_cols.columns])"
      ],
      "metadata": {
        "execution": {
          "iopub.status.busy": "2021-11-05T20:06:50.685969Z",
          "iopub.execute_input": "2021-11-05T20:06:50.686247Z",
          "iopub.status.idle": "2021-11-05T20:06:50.70421Z",
          "shell.execute_reply.started": "2021-11-05T20:06:50.686217Z",
          "shell.execute_reply": "2021-11-05T20:06:50.703131Z"
        },
        "trusted": true,
        "id": "yPM9nWcq6aLJ"
      },
      "execution_count": 15,
      "outputs": []
    },
    {
      "cell_type": "markdown",
      "source": [
        "# One Hot Encoding"
      ],
      "metadata": {
        "id": "lujBmPQE6aLM"
      }
    },
    {
      "cell_type": "code",
      "source": [
        "X = pd.get_dummies(X, columns=X_cat_cols.columns)"
      ],
      "metadata": {
        "execution": {
          "iopub.status.busy": "2021-11-05T20:07:08.804344Z",
          "iopub.execute_input": "2021-11-05T20:07:08.804927Z",
          "iopub.status.idle": "2021-11-05T20:07:08.848661Z",
          "shell.execute_reply.started": "2021-11-05T20:07:08.80488Z",
          "shell.execute_reply": "2021-11-05T20:07:08.847959Z"
        },
        "trusted": true,
        "id": "f0ANI1ra6aLN"
      },
      "execution_count": 16,
      "outputs": []
    },
    {
      "cell_type": "markdown",
      "source": [
        "# Train Test Split"
      ],
      "metadata": {
        "id": "XEZeTBH16aLR"
      }
    },
    {
      "cell_type": "code",
      "source": [
        "X_train, X_test, y_train, y_test = train_test_split(X, y, test_size=0.2, random_state=42)"
      ],
      "metadata": {
        "execution": {
          "iopub.status.busy": "2021-11-05T20:07:21.171502Z",
          "iopub.execute_input": "2021-11-05T20:07:21.171822Z",
          "iopub.status.idle": "2021-11-05T20:07:21.190647Z",
          "shell.execute_reply.started": "2021-11-05T20:07:21.171786Z",
          "shell.execute_reply": "2021-11-05T20:07:21.189654Z"
        },
        "trusted": true,
        "id": "c0-XFYuk6aLS"
      },
      "execution_count": 17,
      "outputs": []
    },
    {
      "cell_type": "markdown",
      "source": [
        "# Machine Learning Models"
      ],
      "metadata": {
        "id": "dumArduM6aLU"
      }
    },
    {
      "cell_type": "code",
      "source": [
        "models = pd.DataFrame(columns=[\"Models\",\"Accuracy Score\"])"
      ],
      "metadata": {
        "execution": {
          "iopub.status.busy": "2021-11-05T19:57:39.397711Z",
          "iopub.execute_input": "2021-11-05T19:57:39.397959Z",
          "iopub.status.idle": "2021-11-05T19:57:39.403751Z",
          "shell.execute_reply.started": "2021-11-05T19:57:39.397931Z",
          "shell.execute_reply": "2021-11-05T19:57:39.402932Z"
        },
        "trusted": true,
        "id": "Kx7jP4FQ6aLW"
      },
      "execution_count": 18,
      "outputs": []
    },
    {
      "cell_type": "code",
      "source": [
        "log_reg = LogisticRegression(solver='liblinear')\n",
        "log_reg.fit(X_train, y_train)\n",
        "predictions = log_reg.predict(X_test)\n",
        "score = accuracy_score(predictions, y_test)\n",
        "print(\"LogisticRegression: \", score)\n",
        "\n",
        "new_row = {\"Models\": \"LogisticRegression\", \"Accuracy Score\": score}\n",
        "models = models.append(new_row, ignore_index=True)"
      ],
      "metadata": {
        "execution": {
          "iopub.status.busy": "2021-11-05T19:57:39.404895Z",
          "iopub.execute_input": "2021-11-05T19:57:39.405099Z",
          "iopub.status.idle": "2021-11-05T19:57:39.604422Z",
          "shell.execute_reply.started": "2021-11-05T19:57:39.405072Z",
          "shell.execute_reply": "2021-11-05T19:57:39.603313Z"
        },
        "trusted": true,
        "colab": {
          "base_uri": "https://localhost:8080/"
        },
        "id": "NHIGTQJE6aLY",
        "outputId": "4b88470e-a3a7-4efa-8560-4421e958072e"
      },
      "execution_count": 19,
      "outputs": [
        {
          "output_type": "stream",
          "name": "stdout",
          "text": [
            "LogisticRegression:  0.7718332022029898\n"
          ]
        }
      ]
    },
    {
      "cell_type": "code",
      "source": [
        "GNB = GaussianNB()\n",
        "GNB.fit(X_train, y_train)\n",
        "predictions = GNB.predict(X_test)\n",
        "score = accuracy_score(predictions, y_test)\n",
        "print(\"GaussianNB: \", score)\n",
        "\n",
        "new_row = {\"Models\": \"GaussianNB\", \"Accuracy Score\": score}\n",
        "models = models.append(new_row, ignore_index=True)"
      ],
      "metadata": {
        "execution": {
          "iopub.status.busy": "2021-11-05T19:57:39.606221Z",
          "iopub.execute_input": "2021-11-05T19:57:39.60668Z",
          "iopub.status.idle": "2021-11-05T19:57:39.729462Z",
          "shell.execute_reply.started": "2021-11-05T19:57:39.606623Z",
          "shell.execute_reply": "2021-11-05T19:57:39.728426Z"
        },
        "trusted": true,
        "colab": {
          "base_uri": "https://localhost:8080/"
        },
        "id": "4eIqsZB06aLa",
        "outputId": "80fb4011-4406-46ac-ce07-d138ed5341a4"
      },
      "execution_count": 20,
      "outputs": [
        {
          "output_type": "stream",
          "name": "stdout",
          "text": [
            "GaussianNB:  0.3884080776291634\n"
          ]
        }
      ]
    },
    {
      "cell_type": "code",
      "source": [
        "BNB = BernoulliNB()\n",
        "BNB.fit(X_train, y_train)\n",
        "predictions = BNB.predict(X_test)\n",
        "score = accuracy_score(predictions, y_test)\n",
        "print(\"BernoulliNB: \", score)\n",
        "\n",
        "new_row = {\"Models\": \"BernoulliNB\", \"Accuracy Score\": score}\n",
        "models = models.append(new_row, ignore_index=True)"
      ],
      "metadata": {
        "execution": {
          "iopub.status.busy": "2021-11-05T19:57:39.731019Z",
          "iopub.execute_input": "2021-11-05T19:57:39.731344Z",
          "iopub.status.idle": "2021-11-05T19:57:39.839751Z",
          "shell.execute_reply.started": "2021-11-05T19:57:39.731291Z",
          "shell.execute_reply": "2021-11-05T19:57:39.838498Z"
        },
        "trusted": true,
        "colab": {
          "base_uri": "https://localhost:8080/"
        },
        "id": "XE7n5H-R6aLd",
        "outputId": "39e4047c-2008-409a-d726-fac8a5d76267"
      },
      "execution_count": 21,
      "outputs": [
        {
          "output_type": "stream",
          "name": "stdout",
          "text": [
            "BernoulliNB:  0.7555730396013638\n"
          ]
        }
      ]
    },
    {
      "cell_type": "code",
      "source": [
        "svm = SVC(random_state=42)\n",
        "svm.fit(X_train, y_train)\n",
        "predictions = svm.predict(X_test)\n",
        "score = accuracy_score(predictions, y_test)\n",
        "print(\"SVC: \", score)\n",
        "\n",
        "new_row = {\"Models\": \"SVC\", \"Accuracy Score\": score}\n",
        "models = models.append(new_row, ignore_index=True)"
      ],
      "metadata": {
        "execution": {
          "iopub.status.busy": "2021-11-05T19:57:39.846603Z",
          "iopub.execute_input": "2021-11-05T19:57:39.847117Z",
          "iopub.status.idle": "2021-11-05T19:58:51.320229Z",
          "shell.execute_reply.started": "2021-11-05T19:57:39.847063Z",
          "shell.execute_reply": "2021-11-05T19:58:51.319183Z"
        },
        "trusted": true,
        "colab": {
          "base_uri": "https://localhost:8080/"
        },
        "id": "cIHyx_J76aLh",
        "outputId": "f66dbfb8-9f0a-49e3-a74a-fc8f7f214853"
      },
      "execution_count": 22,
      "outputs": [
        {
          "output_type": "stream",
          "name": "stdout",
          "text": [
            "SVC:  0.7718332022029898\n"
          ]
        }
      ]
    },
    {
      "cell_type": "code",
      "source": [
        "randomforest = RandomForestClassifier(n_estimators=1000, random_state=42)\n",
        "randomforest.fit(X_train, y_train)\n",
        "predictions = randomforest.predict(X_test)\n",
        "score = accuracy_score(predictions, y_test)\n",
        "print(\"RandomForestClassifier: \", score)\n",
        "\n",
        "new_row = {\"Models\": \"RandomForestClassifier\", \"Accuracy Score\": score}\n",
        "models = models.append(new_row, ignore_index=True)"
      ],
      "metadata": {
        "execution": {
          "iopub.status.busy": "2021-11-05T19:58:51.321769Z",
          "iopub.execute_input": "2021-11-05T19:58:51.322079Z",
          "iopub.status.idle": "2021-11-05T19:59:31.522407Z",
          "shell.execute_reply.started": "2021-11-05T19:58:51.322038Z",
          "shell.execute_reply": "2021-11-05T19:59:31.521543Z"
        },
        "trusted": true,
        "colab": {
          "base_uri": "https://localhost:8080/"
        },
        "id": "AddSRB1J6aLk",
        "outputId": "9b228c8d-1c91-4cc0-9c58-f3c9044be2b0"
      },
      "execution_count": 23,
      "outputs": [
        {
          "output_type": "stream",
          "name": "stdout",
          "text": [
            "RandomForestClassifier:  0.7574088644112248\n"
          ]
        }
      ]
    },
    {
      "cell_type": "code",
      "source": [
        "score_list = []\n",
        "for i in range(1, 20):\n",
        "    knn = KNeighborsClassifier(n_neighbors=i)\n",
        "    knn.fit(X_train, y_train)\n",
        "    predictions = knn.predict(X_test)\n",
        "    score_list.append(accuracy_score(y_test, predictions))\n",
        "\n",
        "plt.plot(range(1, 20), score_list)\n",
        "plt.xticks(np.arange(1, 20, 1))\n",
        "plt.xlabel(\"K value\")\n",
        "plt.ylabel(\"Score\")\n",
        "plt.show()"
      ],
      "metadata": {
        "execution": {
          "iopub.status.busy": "2021-11-05T20:00:28.087689Z",
          "iopub.execute_input": "2021-11-05T20:00:28.088022Z",
          "iopub.status.idle": "2021-11-05T20:05:25.028625Z",
          "shell.execute_reply.started": "2021-11-05T20:00:28.087986Z",
          "shell.execute_reply": "2021-11-05T20:05:25.027629Z"
        },
        "trusted": true,
        "colab": {
          "base_uri": "https://localhost:8080/",
          "height": 281
        },
        "id": "CtpyA7FT6aLo",
        "outputId": "555603f0-6091-4a95-8c0f-d94c62beadd6"
      },
      "execution_count": 25,
      "outputs": [
        {
          "output_type": "display_data",
          "data": {
            "text/plain": [
              "<Figure size 432x288 with 1 Axes>"
            ],
            "image/png": "[encoded data removed]"
          },
          "metadata": {
            "needs_background": "light"
          }
        }
      ]
    },
    {
      "cell_type": "code",
      "source": [
        "knn = KNeighborsClassifier(n_neighbors=17)\n",
        "knn.fit(X_train, y_train)\n",
        "predictions = knn.predict(X_test)\n",
        "score = accuracy_score(predictions, y_test)\n",
        "print(\"KNeighborsClassifier: \", score)\n",
        "\n",
        "new_row = {\"Models\": \"KNeighborsClassifier\", \"Accuracy Score\": score}\n",
        "models = models.append(new_row, ignore_index=True)"
      ],
      "metadata": {
        "execution": {
          "iopub.status.busy": "2021-11-05T20:05:25.030069Z",
          "iopub.execute_input": "2021-11-05T20:05:25.030547Z",
          "iopub.status.idle": "2021-11-05T20:05:42.546541Z",
          "shell.execute_reply.started": "2021-11-05T20:05:25.030507Z",
          "shell.execute_reply": "2021-11-05T20:05:42.545624Z"
        },
        "trusted": true,
        "colab": {
          "base_uri": "https://localhost:8080/"
        },
        "id": "kuVWcoMM6aLq",
        "outputId": "d8c2f2fa-9233-4125-c577-8d2b0b1f8ec4"
      },
      "execution_count": 26,
      "outputs": [
        {
          "output_type": "stream",
          "name": "stdout",
          "text": [
            "KNeighborsClassifier:  0.7671125098347757\n"
          ]
        }
      ]
    },
    {
      "cell_type": "markdown",
      "source": [
        "# Comparison of Machine Learning Models"
      ],
      "metadata": {
        "id": "6byRfwms6aLs"
      }
    },
    {
      "cell_type": "code",
      "source": [
        "models.sort_values(by=\"Accuracy Score\", ascending=False)"
      ],
      "metadata": {
        "execution": {
          "iopub.status.busy": "2021-11-05T20:05:42.547531Z",
          "iopub.execute_input": "2021-11-05T20:05:42.547759Z",
          "iopub.status.idle": "2021-11-05T20:05:42.560641Z",
          "shell.execute_reply.started": "2021-11-05T20:05:42.547713Z",
          "shell.execute_reply": "2021-11-05T20:05:42.55965Z"
        },
        "trusted": true,
        "colab": {
          "base_uri": "https://localhost:8080/",
          "height": 237
        },
        "id": "QouxeHcx6aLu",
        "outputId": "a6db2b06-fbcb-467c-ec3c-da6417fdb8c0"
      },
      "execution_count": 27,
      "outputs": [
        {
          "output_type": "execute_result",
          "data": {
            "text/plain": [
              "                   Models  Accuracy Score\n",
              "0      LogisticRegression        0.771833\n",
              "3                     SVC        0.771833\n",
              "5    KNeighborsClassifier        0.767113\n",
              "4  RandomForestClassifier        0.757409\n",
              "2             BernoulliNB        0.755573\n",
              "1              GaussianNB        0.388408"
            ],
            "text/html": [
              "\n",
              "  <div id=\"df-de132b13-10aa-436a-8877-1849c84eae96\">\n",
              "    <div class=\"colab-df-container\">\n",
              "      <div>\n",
              "<style scoped>\n",
              "    .dataframe tbody tr th:only-of-type {\n",
              "        vertical-align: middle;\n",
              "    }\n",
              "\n",
              "    .dataframe tbody tr th {\n",
              "        vertical-align: top;\n",
              "    }\n",
              "\n",
              "    .dataframe thead th {\n",
              "        text-align: right;\n",
              "    }\n",
              "</style>\n",
              "<table border=\"1\" class=\"dataframe\">\n",
              "  <thead>\n",
              "    <tr style=\"text-align: right;\">\n",
              "      <th></th>\n",
              "      <th>Models</th>\n",
              "      <th>Accuracy Score</th>\n",
              "    </tr>\n",
              "  </thead>\n",
              "  <tbody>\n",
              "    <tr>\n",
              "      <th>0</th>\n",
              "      <td>LogisticRegression</td>\n",
              "      <td>0.771833</td>\n",
              "    </tr>\n",
              "    <tr>\n",
              "      <th>3</th>\n",
              "      <td>SVC</td>\n",
              "      <td>0.771833</td>\n",
              "    </tr>\n",
              "    <tr>\n",
              "      <th>5</th>\n",
              "      <td>KNeighborsClassifier</td>\n",
              "      <td>0.767113</td>\n",
              "    </tr>\n",
              "    <tr>\n",
              "      <th>4</th>\n",
              "      <td>RandomForestClassifier</td>\n",
              "      <td>0.757409</td>\n",
              "    </tr>\n",
              "    <tr>\n",
              "      <th>2</th>\n",
              "      <td>BernoulliNB</td>\n",
              "      <td>0.755573</td>\n",
              "    </tr>\n",
              "    <tr>\n",
              "      <th>1</th>\n",
              "      <td>GaussianNB</td>\n",
              "      <td>0.388408</td>\n",
              "    </tr>\n",
              "  </tbody>\n",
              "</table>\n",
              "</div>\n",
              "      <button class=\"colab-df-convert\" onclick=\"convertToInteractive('df-de132b13-10aa-436a-8877-1849c84eae96')\"\n",
              "              title=\"Convert this dataframe to an interactive table.\"\n",
              "              style=\"display:none;\">\n",
              "        \n",
              "  <svg xmlns=\"http://www.w3.org/2000/svg\" height=\"24px\"viewBox=\"0 0 24 24\"\n",
              "       width=\"24px\">\n",
              "    <path d=\"M0 0h24v24H0V0z\" fill=\"none\"/>\n",
              "    <path d=\"M18.56 5.44l.94 2.06.94-2.06 2.06-.94-2.06-.94-.94-2.06-.94 2.06-2.06.94zm-11 1L8.5 8.5l.94-2.06 2.06-.94-2.06-.94L8.5 2.5l-.94 2.06-2.06.94zm10 10l.94 2.06.94-2.06 2.06-.94-2.06-.94-.94-2.06-.94 2.06-2.06.94z\"/><path d=\"M17.41 7.96l-1.37-1.37c-.4-.4-.92-.59-1.43-.59-.52 0-1.04.2-1.43.59L10.3 9.45l-7.72 7.72c-.78.78-.78 2.05 0 2.83L4 21.41c.39.39.9.59 1.41.59.51 0 1.02-.2 1.41-.59l7.78-7.78 2.81-2.81c.8-.78.8-2.07 0-2.86zM5.41 20L4 18.59l7.72-7.72 1.47 1.35L5.41 20z\"/>\n",
              "  </svg>\n",
              "      </button>\n",
              "      \n",
              "  <style>\n",
              "    .colab-df-container {\n",
              "      display:flex;\n",
              "      flex-wrap:wrap;\n",
              "      gap: 12px;\n",
              "    }\n",
              "\n",
              "    .colab-df-convert {\n",
              "      background-color: #E8F0FE;\n",
              "      border: none;\n",
              "      border-radius: 50%;\n",
              "      cursor: pointer;\n",
              "      display: none;\n",
              "      fill: #1967D2;\n",
              "      height: 32px;\n",
              "      padding: 0 0 0 0;\n",
              "      width: 32px;\n",
              "    }\n",
              "\n",
              "    .colab-df-convert:hover {\n",
              "      background-color: #E2EBFA;\n",
              "      box-shadow: 0px 1px 2px rgba(60, 64, 67, 0.3), 0px 1px 3px 1px rgba(60, 64, 67, 0.15);\n",
              "      fill: #174EA6;\n",
              "    }\n",
              "\n",
              "    [theme=dark] .colab-df-convert {\n",
              "      background-color: #3B4455;\n",
              "      fill: #D2E3FC;\n",
              "    }\n",
              "\n",
              "    [theme=dark] .colab-df-convert:hover {\n",
              "      background-color: #434B5C;\n",
              "      box-shadow: 0px 1px 3px 1px rgba(0, 0, 0, 0.15);\n",
              "      filter: drop-shadow(0px 1px 2px rgba(0, 0, 0, 0.3));\n",
              "      fill: #FFFFFF;\n",
              "    }\n",
              "  </style>\n",
              "\n",
              "      <script>\n",
              "        const buttonEl =\n",
              "          document.querySelector('#df-de132b13-10aa-436a-8877-1849c84eae96 button.colab-df-convert');\n",
              "        buttonEl.style.display =\n",
              "          google.colab.kernel.accessAllowed ? 'block' : 'none';\n",
              "\n",
              "        async function convertToInteractive(key) {\n",
              "          const element = document.querySelector('#df-de132b13-10aa-436a-8877-1849c84eae96');\n",
              "          const dataTable =\n",
              "            await google.colab.kernel.invokeFunction('convertToInteractive',\n",
              "                                                     [key], {});\n",
              "          if (!dataTable) return;\n",
              "\n",
              "          const docLinkHtml = 'Like what you see? Visit the ' +\n",
              "            '<a target=\"_blank\" href=https://colab.research.google.com/notebooks/data_table.ipynb>data table notebook</a>'\n",
              "            + ' to learn more about interactive tables.';\n",
              "          element.innerHTML = '';\n",
              "          dataTable['output_type'] = 'display_data';\n",
              "          await google.colab.output.renderOutput(dataTable, element);\n",
              "          const docLink = document.createElement('div');\n",
              "          docLink.innerHTML = docLinkHtml;\n",
              "          element.appendChild(docLink);\n",
              "        }\n",
              "      </script>\n",
              "    </div>\n",
              "  </div>\n",
              "  "
            ]
          },
          "metadata": {},
          "execution_count": 27
        }
      ]
    }
  ]
}